{
  "nbformat": 4,
  "nbformat_minor": 0,
  "metadata": {
    "colab": {
      "provenance": []
    },
    "kernelspec": {
      "name": "python3",
      "display_name": "Python 3"
    },
    "language_info": {
      "name": "python"
    }
  },
  "cells": [
    {
      "cell_type": "markdown",
      "source": [
        "Clustering on MNIST fashion dataset\n",
        "\n",
        "By Kanika Saha\n",
        "\n",
        "Chennai Mathematical Institute"
      ],
      "metadata": {
        "id": "4brF4cyTlUzG"
      }
    },
    {
      "cell_type": "code",
      "metadata": {
        "id": "ScayldC3h9rV"
      },
      "source": [
        "# Importing Packages:\n",
        "\n",
        "import numpy as np\n",
        "import pandas as pd\n",
        "import os\n",
        "import time\n",
        "import warnings\n",
        "from sklearn.model_selection import train_test_split\n",
        "warnings.filterwarnings('ignore' )\n",
        "# To plot pretty figures\n",
        "%matplotlib inline\n",
        "import matplotlib as mpl\n",
        "import matplotlib.pyplot as plt\n",
        "mpl.rc('axes', labelsize=14)\n",
        "mpl.rc('xtick', labelsize=12)\n",
        "mpl.rc('ytick', labelsize=12)\n",
        "import tensorflow as tf\n",
        "from tensorflow import keras"
      ],
      "execution_count": 1,
      "outputs": []
    },
    {
      "cell_type": "markdown",
      "metadata": {
        "id": "ych5jpd9nony"
      },
      "source": [
        "Import fashion mnist data"
      ]
    },
    {
      "cell_type": "code",
      "metadata": {
        "id": "tHxx-HetqC5G",
        "colab": {
          "base_uri": "https://localhost:8080/"
        },
        "outputId": "71b43138-03f1-439d-ded9-f1be12841988"
      },
      "source": [
        "fashion_mnist = keras.datasets.fashion_mnist\n",
        "(X_train1, y_train), (X_test1, y_test) =fashion_mnist.load_data()"
      ],
      "execution_count": 2,
      "outputs": [
        {
          "output_type": "stream",
          "name": "stdout",
          "text": [
            "Downloading data from https://storage.googleapis.com/tensorflow/tf-keras-datasets/train-labels-idx1-ubyte.gz\n",
            "29515/29515 [==============================] - 0s 0us/step\n",
            "Downloading data from https://storage.googleapis.com/tensorflow/tf-keras-datasets/train-images-idx3-ubyte.gz\n",
            "26421880/26421880 [==============================] - 1s 0us/step\n",
            "Downloading data from https://storage.googleapis.com/tensorflow/tf-keras-datasets/t10k-labels-idx1-ubyte.gz\n",
            "5148/5148 [==============================] - 0s 0us/step\n",
            "Downloading data from https://storage.googleapis.com/tensorflow/tf-keras-datasets/t10k-images-idx3-ubyte.gz\n",
            "4422102/4422102 [==============================] - 0s 0us/step\n"
          ]
        }
      ]
    },
    {
      "cell_type": "code",
      "metadata": {
        "id": "u8Qdpy28qJPF",
        "colab": {
          "base_uri": "https://localhost:8080/"
        },
        "outputId": "ab85e7e4-83aa-402d-8c3b-cd63e091f458"
      },
      "source": [
        "X_train1.shape"
      ],
      "execution_count": 15,
      "outputs": [
        {
          "output_type": "execute_result",
          "data": {
            "text/plain": [
              "(60000, 28, 28)"
            ]
          },
          "metadata": {},
          "execution_count": 15
        }
      ]
    },
    {
      "cell_type": "code",
      "metadata": {
        "id": "G3LoIMOPqTGq",
        "colab": {
          "base_uri": "https://localhost:8080/"
        },
        "outputId": "1f7b00cf-f3d6-4329-ced4-754bd2ffd77e"
      },
      "source": [
        "X_train1.dtype"
      ],
      "execution_count": 4,
      "outputs": [
        {
          "output_type": "execute_result",
          "data": {
            "text/plain": [
              "dtype('uint8')"
            ]
          },
          "metadata": {},
          "execution_count": 4
        }
      ]
    },
    {
      "cell_type": "code",
      "metadata": {
        "id": "enVijRawqXAs",
        "colab": {
          "base_uri": "https://localhost:8080/",
          "height": 406
        },
        "outputId": "82bfcad3-9182-4134-d949-b837dc89f55e"
      },
      "source": [
        "plt.imshow(X_train1[0], cmap=\"binary\")\n",
        "plt.axis('off')\n",
        "plt.show()"
      ],
      "execution_count": 5,
      "outputs": [
        {
          "output_type": "display_data",
          "data": {
            "text/plain": [
              "<Figure size 640x480 with 1 Axes>"
            ],
            "image/png": "[encoded data removed]"
          },
          "metadata": {}
        }
      ]
    },
    {
      "cell_type": "markdown",
      "metadata": {
        "id": "dgp9cI7UVAsY"
      },
      "source": [
        "Reshape the data for logistic regression\n",
        "\n",
        "\n"
      ]
    },
    {
      "cell_type": "code",
      "metadata": {
        "id": "klgm2UqnVucI"
      },
      "source": [
        "nsamples, nx, ny = X_train1.shape\n",
        "X_train = X_train1.reshape((nsamples,nx*ny))\n",
        "nsamples, nx, ny = X_test1.shape\n",
        "X_test=X_test1.reshape((nsamples,nx*ny))\n"
      ],
      "execution_count": 6,
      "outputs": []
    },
    {
      "cell_type": "markdown",
      "metadata": {
        "id": "fk93LhyBX53B"
      },
      "source": [
        "Standard scaling the data"
      ]
    },
    {
      "cell_type": "code",
      "metadata": {
        "id": "2tvuEpo5u7iz"
      },
      "source": [
        "from sklearn.preprocessing import StandardScaler\n",
        "train_dataset=StandardScaler().fit_transform(X_train)\n",
        "test_dataset=StandardScaler().fit_transform(X_test)\n"
      ],
      "execution_count": 7,
      "outputs": []
    },
    {
      "cell_type": "code",
      "metadata": {
        "id": "IRlutXuPrWqh",
        "colab": {
          "base_uri": "https://localhost:8080/"
        },
        "outputId": "fee346f4-f1e7-4c56-dd26-ec34bbdf0dfd"
      },
      "source": [
        "train_dataset"
      ],
      "execution_count": 8,
      "outputs": [
        {
          "output_type": "execute_result",
          "data": {
            "text/plain": [
              "array([[-0.00864371, -0.02322333, -0.03917806, ..., -0.15681128,\n",
              "        -0.08967308, -0.03414729],\n",
              "       [-0.00864371, -0.02322333, -0.03917806, ..., -0.15681128,\n",
              "        -0.08967308, -0.03414729],\n",
              "       [-0.00864371, -0.02322333, -0.03917806, ..., -0.15681128,\n",
              "        -0.08967308, -0.03414729],\n",
              "       ...,\n",
              "       [-0.00864371, -0.02322333, -0.03917806, ..., -0.15681128,\n",
              "        -0.08967308, -0.03414729],\n",
              "       [-0.00864371, -0.02322333, -0.03917806, ..., -0.15681128,\n",
              "        -0.08967308, -0.03414729],\n",
              "       [-0.00864371, -0.02322333, -0.03917806, ..., -0.15681128,\n",
              "        -0.08967308, -0.03414729]])"
            ]
          },
          "metadata": {},
          "execution_count": 8
        }
      ]
    },
    {
      "cell_type": "code",
      "metadata": {
        "id": "MvShbDAcwlWX",
        "colab": {
          "base_uri": "https://localhost:8080/"
        },
        "outputId": "aa75f844-1bda-4661-d4bb-1babe4eaa6b4"
      },
      "source": [
        "y_train"
      ],
      "execution_count": 9,
      "outputs": [
        {
          "output_type": "execute_result",
          "data": {
            "text/plain": [
              "array([9, 0, 0, ..., 3, 0, 5], dtype=uint8)"
            ]
          },
          "metadata": {},
          "execution_count": 9
        }
      ]
    },
    {
      "cell_type": "markdown",
      "metadata": {
        "id": "WjmF4ZdDX--o"
      },
      "source": [
        "Class name to Target Variable:"
      ]
    },
    {
      "cell_type": "code",
      "metadata": {
        "id": "pZqYfbB7wzGa"
      },
      "source": [
        "class_names = [\"T-shirt/top\", \"Trouser\", \"Pullover\", \"Dress\", \"Coat\",\n",
        "\"Sandal\", \"Shirt\", \"Sneaker\", \"Bag\", \"Ankle boot\"]"
      ],
      "execution_count": 10,
      "outputs": []
    },
    {
      "cell_type": "code",
      "metadata": {
        "colab": {
          "base_uri": "https://localhost:8080/",
          "height": 37
        },
        "id": "J_bCcMTyw6uC",
        "outputId": "fd672e08-c417-49b8-99a5-8d76722c9220"
      },
      "source": [
        "class_names[y_train[0]]"
      ],
      "execution_count": 11,
      "outputs": [
        {
          "output_type": "execute_result",
          "data": {
            "text/plain": [
              "'Ankle boot'"
            ],
            "application/vnd.google.colaboratory.intrinsic+json": {
              "type": "string"
            }
          },
          "metadata": {},
          "execution_count": 11
        }
      ]
    },
    {
      "cell_type": "markdown",
      "metadata": {
        "id": "A6JHTDt7YH5H"
      },
      "source": [
        "Logistic regression on whole trainning data"
      ]
    },
    {
      "cell_type": "code",
      "metadata": {
        "id": "uWSd4THUu1f6"
      },
      "source": [
        "from sklearn.linear_model import LogisticRegression\n",
        "log_reg = LogisticRegression(multi_class=\"auto\", solver=\"lbfgs\", random_state=42)"
      ],
      "execution_count": 20,
      "outputs": []
    },
    {
      "cell_type": "code",
      "metadata": {
        "id": "6LtCVSZAx8Tl",
        "colab": {
          "base_uri": "https://localhost:8080/",
          "height": 74
        },
        "outputId": "d7fabe42-1d17-4e89-f376-584c82406549"
      },
      "source": [
        "log_reg.fit(train_dataset,y_train)"
      ],
      "execution_count": 21,
      "outputs": [
        {
          "output_type": "execute_result",
          "data": {
            "text/plain": [
              "LogisticRegression(random_state=42)"
            ],
            "text/html": [
              "<style>#sk-container-id-1 {color: black;background-color: white;}#sk-container-id-1 pre{padding: 0;}#sk-container-id-1 div.sk-toggleable {background-color: white;}#sk-container-id-1 label.sk-toggleable__label {cursor: pointer;display: block;width: 100%;margin-bottom: 0;padding: 0.3em;box-sizing: border-box;text-align: center;}#sk-container-id-1 label.sk-toggleable__label-arrow:before {content: \"▸\";float: left;margin-right: 0.25em;color: #696969;}#sk-container-id-1 label.sk-toggleable__label-arrow:hover:before {color: black;}#sk-container-id-1 div.sk-estimator:hover label.sk-toggleable__label-arrow:before {color: black;}#sk-container-id-1 div.sk-toggleable__content {max-height: 0;max-width: 0;overflow: hidden;text-align: left;background-color: #f0f8ff;}#sk-container-id-1 div.sk-toggleable__content pre {margin: 0.2em;color: black;border-radius: 0.25em;background-color: #f0f8ff;}#sk-container-id-1 input.sk-toggleable__control:checked~div.sk-toggleable__content {max-height: 200px;max-width: 100%;overflow: auto;}#sk-container-id-1 input.sk-toggleable__control:checked~label.sk-toggleable__label-arrow:before {content: \"▾\";}#sk-container-id-1 div.sk-estimator input.sk-toggleable__control:checked~label.sk-toggleable__label {background-color: #d4ebff;}#sk-container-id-1 div.sk-label input.sk-toggleable__control:checked~label.sk-toggleable__label {background-color: #d4ebff;}#sk-container-id-1 input.sk-hidden--visually {border: 0;clip: rect(1px 1px 1px 1px);clip: rect(1px, 1px, 1px, 1px);height: 1px;margin: -1px;overflow: hidden;padding: 0;position: absolute;width: 1px;}#sk-container-id-1 div.sk-estimator {font-family: monospace;background-color: #f0f8ff;border: 1px dotted black;border-radius: 0.25em;box-sizing: border-box;margin-bottom: 0.5em;}#sk-container-id-1 div.sk-estimator:hover {background-color: #d4ebff;}#sk-container-id-1 div.sk-parallel-item::after {content: \"\";width: 100%;border-bottom: 1px solid gray;flex-grow: 1;}#sk-container-id-1 div.sk-label:hover label.sk-toggleable__label {background-color: #d4ebff;}#sk-container-id-1 div.sk-serial::before {content: \"\";position: absolute;border-left: 1px solid gray;box-sizing: border-box;top: 0;bottom: 0;left: 50%;z-index: 0;}#sk-container-id-1 div.sk-serial {display: flex;flex-direction: column;align-items: center;background-color: white;padding-right: 0.2em;padding-left: 0.2em;position: relative;}#sk-container-id-1 div.sk-item {position: relative;z-index: 1;}#sk-container-id-1 div.sk-parallel {display: flex;align-items: stretch;justify-content: center;background-color: white;position: relative;}#sk-container-id-1 div.sk-item::before, #sk-container-id-1 div.sk-parallel-item::before {content: \"\";position: absolute;border-left: 1px solid gray;box-sizing: border-box;top: 0;bottom: 0;left: 50%;z-index: -1;}#sk-container-id-1 div.sk-parallel-item {display: flex;flex-direction: column;z-index: 1;position: relative;background-color: white;}#sk-container-id-1 div.sk-parallel-item:first-child::after {align-self: flex-end;width: 50%;}#sk-container-id-1 div.sk-parallel-item:last-child::after {align-self: flex-start;width: 50%;}#sk-container-id-1 div.sk-parallel-item:only-child::after {width: 0;}#sk-container-id-1 div.sk-dashed-wrapped {border: 1px dashed gray;margin: 0 0.4em 0.5em 0.4em;box-sizing: border-box;padding-bottom: 0.4em;background-color: white;}#sk-container-id-1 div.sk-label label {font-family: monospace;font-weight: bold;display: inline-block;line-height: 1.2em;}#sk-container-id-1 div.sk-label-container {text-align: center;}#sk-container-id-1 div.sk-container {/* jupyter's `normalize.less` sets `[hidden] { display: none; }` but bootstrap.min.css set `[hidden] { display: none !important; }` so we also need the `!important` here to be able to override the default hidden behavior on the sphinx rendered scikit-learn.org. See: https://github.com/scikit-learn/scikit-learn/issues/21755 */display: inline-block !important;position: relative;}#sk-container-id-1 div.sk-text-repr-fallback {display: none;}</style><div id=\"sk-container-id-1\" class=\"sk-top-container\"><div class=\"sk-text-repr-fallback\"><pre>LogisticRegression(random_state=42)</pre><b>In a Jupyter environment, please rerun this cell to show the HTML representation or trust the notebook. <br />On GitHub, the HTML representation is unable to render, please try loading this page with nbviewer.org.</b></div><div class=\"sk-container\" hidden><div class=\"sk-item\"><div class=\"sk-estimator sk-toggleable\"><input class=\"sk-toggleable__control sk-hidden--visually\" id=\"sk-estimator-id-1\" type=\"checkbox\" checked><label for=\"sk-estimator-id-1\" class=\"sk-toggleable__label sk-toggleable__label-arrow\">LogisticRegression</label><div class=\"sk-toggleable__content\"><pre>LogisticRegression(random_state=42)</pre></div></div></div></div></div>"
            ]
          },
          "metadata": {},
          "execution_count": 21
        }
      ]
    },
    {
      "cell_type": "code",
      "metadata": {
        "colab": {
          "base_uri": "https://localhost:8080/"
        },
        "id": "SUrHgSCV3oQ3",
        "outputId": "8cdcd99a-5388-487d-82d5-887cf302a562"
      },
      "source": [
        "log_reg.score(test_dataset, y_test)"
      ],
      "execution_count": 22,
      "outputs": [
        {
          "output_type": "execute_result",
          "data": {
            "text/plain": [
              "0.8434"
            ]
          },
          "metadata": {},
          "execution_count": 22
        }
      ]
    },
    {
      "cell_type": "markdown",
      "metadata": {
        "id": "E5-wJ2-OoUIp"
      },
      "source": [
        "So, by logistic regression on whole trainning data we get 84.34% accuracy on test data."
      ]
    },
    {
      "cell_type": "code",
      "metadata": {
        "id": "6QgiJc-uZ6oM"
      },
      "source": [
        "# log_reg on hyperparameter solver=\"liblinear\" & max_iter=200 :\n",
        "log_reg1 = LogisticRegression(multi_class=\"auto\",max_iter=200, solver=\"liblinear\", random_state=42)"
      ],
      "execution_count": 23,
      "outputs": []
    },
    {
      "cell_type": "code",
      "source": [
        "log_reg1"
      ],
      "metadata": {
        "colab": {
          "base_uri": "https://localhost:8080/",
          "height": 74
        },
        "id": "4e925_hjjcKy",
        "outputId": "30a17d62-289a-4bcd-9bac-90883bcc72bc"
      },
      "execution_count": 28,
      "outputs": [
        {
          "output_type": "execute_result",
          "data": {
            "text/plain": [
              "LogisticRegression(max_iter=200, random_state=42, solver='liblinear')"
            ],
            "text/html": [
              "<style>#sk-container-id-2 {color: black;background-color: white;}#sk-container-id-2 pre{padding: 0;}#sk-container-id-2 div.sk-toggleable {background-color: white;}#sk-container-id-2 label.sk-toggleable__label {cursor: pointer;display: block;width: 100%;margin-bottom: 0;padding: 0.3em;box-sizing: border-box;text-align: center;}#sk-container-id-2 label.sk-toggleable__label-arrow:before {content: \"▸\";float: left;margin-right: 0.25em;color: #696969;}#sk-container-id-2 label.sk-toggleable__label-arrow:hover:before {color: black;}#sk-container-id-2 div.sk-estimator:hover label.sk-toggleable__label-arrow:before {color: black;}#sk-container-id-2 div.sk-toggleable__content {max-height: 0;max-width: 0;overflow: hidden;text-align: left;background-color: #f0f8ff;}#sk-container-id-2 div.sk-toggleable__content pre {margin: 0.2em;color: black;border-radius: 0.25em;background-color: #f0f8ff;}#sk-container-id-2 input.sk-toggleable__control:checked~div.sk-toggleable__content {max-height: 200px;max-width: 100%;overflow: auto;}#sk-container-id-2 input.sk-toggleable__control:checked~label.sk-toggleable__label-arrow:before {content: \"▾\";}#sk-container-id-2 div.sk-estimator input.sk-toggleable__control:checked~label.sk-toggleable__label {background-color: #d4ebff;}#sk-container-id-2 div.sk-label input.sk-toggleable__control:checked~label.sk-toggleable__label {background-color: #d4ebff;}#sk-container-id-2 input.sk-hidden--visually {border: 0;clip: rect(1px 1px 1px 1px);clip: rect(1px, 1px, 1px, 1px);height: 1px;margin: -1px;overflow: hidden;padding: 0;position: absolute;width: 1px;}#sk-container-id-2 div.sk-estimator {font-family: monospace;background-color: #f0f8ff;border: 1px dotted black;border-radius: 0.25em;box-sizing: border-box;margin-bottom: 0.5em;}#sk-container-id-2 div.sk-estimator:hover {background-color: #d4ebff;}#sk-container-id-2 div.sk-parallel-item::after {content: \"\";width: 100%;border-bottom: 1px solid gray;flex-grow: 1;}#sk-container-id-2 div.sk-label:hover label.sk-toggleable__label {background-color: #d4ebff;}#sk-container-id-2 div.sk-serial::before {content: \"\";position: absolute;border-left: 1px solid gray;box-sizing: border-box;top: 0;bottom: 0;left: 50%;z-index: 0;}#sk-container-id-2 div.sk-serial {display: flex;flex-direction: column;align-items: center;background-color: white;padding-right: 0.2em;padding-left: 0.2em;position: relative;}#sk-container-id-2 div.sk-item {position: relative;z-index: 1;}#sk-container-id-2 div.sk-parallel {display: flex;align-items: stretch;justify-content: center;background-color: white;position: relative;}#sk-container-id-2 div.sk-item::before, #sk-container-id-2 div.sk-parallel-item::before {content: \"\";position: absolute;border-left: 1px solid gray;box-sizing: border-box;top: 0;bottom: 0;left: 50%;z-index: -1;}#sk-container-id-2 div.sk-parallel-item {display: flex;flex-direction: column;z-index: 1;position: relative;background-color: white;}#sk-container-id-2 div.sk-parallel-item:first-child::after {align-self: flex-end;width: 50%;}#sk-container-id-2 div.sk-parallel-item:last-child::after {align-self: flex-start;width: 50%;}#sk-container-id-2 div.sk-parallel-item:only-child::after {width: 0;}#sk-container-id-2 div.sk-dashed-wrapped {border: 1px dashed gray;margin: 0 0.4em 0.5em 0.4em;box-sizing: border-box;padding-bottom: 0.4em;background-color: white;}#sk-container-id-2 div.sk-label label {font-family: monospace;font-weight: bold;display: inline-block;line-height: 1.2em;}#sk-container-id-2 div.sk-label-container {text-align: center;}#sk-container-id-2 div.sk-container {/* jupyter's `normalize.less` sets `[hidden] { display: none; }` but bootstrap.min.css set `[hidden] { display: none !important; }` so we also need the `!important` here to be able to override the default hidden behavior on the sphinx rendered scikit-learn.org. See: https://github.com/scikit-learn/scikit-learn/issues/21755 */display: inline-block !important;position: relative;}#sk-container-id-2 div.sk-text-repr-fallback {display: none;}</style><div id=\"sk-container-id-2\" class=\"sk-top-container\"><div class=\"sk-text-repr-fallback\"><pre>LogisticRegression(max_iter=200, random_state=42, solver=&#x27;liblinear&#x27;)</pre><b>In a Jupyter environment, please rerun this cell to show the HTML representation or trust the notebook. <br />On GitHub, the HTML representation is unable to render, please try loading this page with nbviewer.org.</b></div><div class=\"sk-container\" hidden><div class=\"sk-item\"><div class=\"sk-estimator sk-toggleable\"><input class=\"sk-toggleable__control sk-hidden--visually\" id=\"sk-estimator-id-2\" type=\"checkbox\" checked><label for=\"sk-estimator-id-2\" class=\"sk-toggleable__label sk-toggleable__label-arrow\">LogisticRegression</label><div class=\"sk-toggleable__content\"><pre>LogisticRegression(max_iter=200, random_state=42, solver=&#x27;liblinear&#x27;)</pre></div></div></div></div></div>"
            ]
          },
          "metadata": {},
          "execution_count": 28
        }
      ]
    },
    {
      "cell_type": "code",
      "metadata": {
        "colab": {
          "base_uri": "https://localhost:8080/"
        },
        "id": "4mfdw4cuL6pX",
        "outputId": "3205f861-0c61-4b11-b5e0-dd3490bdc818"
      },
      "source": [
        "# Logestic Regression on random datapoints[range of i]:\n",
        "l=[]\n",
        "for i in range(10,36):\n",
        "  X_trainn, X_te, y_trainn, y_te = train_test_split( train_dataset, y_train, train_size=i, random_state=42)\n",
        "  log_reg1.fit(X_trainn,y_trainn)\n",
        "  l.append(log_reg1.score(test_dataset,y_test))\n",
        "print(l) ## accuaracy of each i belongs to range (10,35)\n",
        ""
      ],
      "execution_count": 24,
      "outputs": [
        {
          "output_type": "stream",
          "name": "stdout",
          "text": [
            "[0.4646, 0.463, 0.4811, 0.4624, 0.5023, 0.4855, 0.51, 0.51, 0.507, 0.5051, 0.5017, 0.4868, 0.4944, 0.4852, 0.4944, 0.5, 0.5034, 0.5337, 0.5577, 0.5661, 0.5655, 0.5662, 0.5681, 0.5653, 0.5649, 0.5622]\n"
          ]
        }
      ]
    },
    {
      "cell_type": "code",
      "metadata": {
        "colab": {
          "base_uri": "https://localhost:8080/"
        },
        "id": "S75J7koQVeCv",
        "outputId": "4efe47f9-bda0-4377-eb29-0d8bd852cbfb"
      },
      "source": [
        "# Logestic Regression on first 'ith' datapoints:\n",
        "lt=[]\n",
        "for i in range(10,36):\n",
        "  log_reg1.fit(train_dataset[:i],y_train[:i])\n",
        "  lt.append(log_reg1.score(test_dataset,y_test))\n",
        "print(lt) ## accuaracy of each i belongs to range (10,35)\n",
        "\n"
      ],
      "execution_count": 25,
      "outputs": [
        {
          "output_type": "stream",
          "name": "stdout",
          "text": [
            "[0.3605, 0.3681, 0.385, 0.3972, 0.386, 0.3974, 0.3977, 0.4331, 0.4365, 0.4417, 0.4477, 0.4801, 0.5103, 0.5346, 0.574, 0.5814, 0.5918, 0.5888, 0.5891, 0.5883, 0.5966, 0.6037, 0.6169, 0.6135, 0.6284, 0.6263]\n"
          ]
        }
      ]
    },
    {
      "cell_type": "code",
      "metadata": {
        "id": "F31EBnO-RGYt"
      },
      "source": [
        "from sklearn.cluster import KMeans"
      ],
      "execution_count": 26,
      "outputs": []
    },
    {
      "cell_type": "code",
      "metadata": {
        "id": "bEIxOav19EFZ"
      },
      "source": [
        "# 20 percentile closest to the core point:\n",
        "percentile_closest = 20"
      ],
      "execution_count": 27,
      "outputs": []
    },
    {
      "cell_type": "code",
      "metadata": {
        "id": "UCmOL6pXJnsl",
        "colab": {
          "base_uri": "https://localhost:8080/"
        },
        "outputId": "9a552085-a029-4db5-9396-3c6546444ef6"
      },
      "source": [
        "# Here two process code has considered:\n",
        "# 1)choosing the centroid of kmeans as a training datapoints to fit logestic regression:\n",
        "# 2)choosing 20 percentile closest datapoints to the centroids as training data and then fitting logestic regression:\n",
        "start=time.time()\n",
        "l_mean=[] # appened the accuracy of ith iteration in process 1\n",
        "l_mean_close=[]# appened the accuracy of ith iteration in process 2\n",
        "\n",
        "\n",
        "for i in range (10,36):\n",
        "  print('value of k' ,i)\n",
        "  kmeans = KMeans(n_clusters=i, random_state=42)\n",
        "  X_digits_dist = kmeans.fit_transform(train_dataset)\n",
        "  representative_digit_idx = np.argmin(X_digits_dist, axis=0)\n",
        "  X_representative_digits = train_dataset[representative_digit_idx]\n",
        "  y_representative_digits=y_train[representative_digit_idx]\n",
        "  log_reg1.fit(X_representative_digits,y_representative_digits)\n",
        "  l_mean.append(log_reg1.score(test_dataset,y_test))\n",
        "  X_cluster_dist = X_digits_dist[np.arange(len(train_dataset)), kmeans.labels_]\n",
        "  for j in range(i):\n",
        "    in_cluster = (kmeans.labels_ == j)\n",
        "    cluster_dist = X_cluster_dist[in_cluster]\n",
        "    cutoff_distance = np.percentile(cluster_dist, percentile_closest)\n",
        "    above_cutoff = (X_cluster_dist > cutoff_distance)\n",
        "    X_cluster_dist[in_cluster & above_cutoff] = -1\n",
        "  partially_propagated = (X_cluster_dist != -1)\n",
        "  X_train_partially_propagated = train_dataset[partially_propagated]\n",
        "  y_train_propagated = np.empty(len(X_train), dtype=np.int32)\n",
        "  for j in range(i):\n",
        "    y_train_propagated[kmeans.labels_==j] = y_representative_digits[j]\n",
        "  y_train_partially_propagated = y_train_propagated[partially_propagated]\n",
        "  log_reg1.fit(X_train_partially_propagated,y_train_partially_propagated)\n",
        "  l_mean_close.append(log_reg1.score(test_dataset,y_test))\n",
        "end=time.time()\n",
        "print(end-start)"
      ],
      "execution_count": null,
      "outputs": [
        {
          "output_type": "stream",
          "text": [
            "value of k 10\n",
            "value of k 11\n",
            "value of k 12\n",
            "value of k 13\n",
            "value of k 14\n",
            "value of k 15\n",
            "value of k 16\n",
            "value of k 17\n",
            "value of k 18\n",
            "value of k 19\n",
            "value of k 20\n",
            "value of k 21\n",
            "value of k 22\n",
            "value of k 23\n",
            "value of k 24\n",
            "value of k 25\n",
            "value of k 26\n",
            "value of k 27\n",
            "value of k 28\n",
            "value of k 29\n",
            "value of k 30\n",
            "value of k 31\n",
            "value of k 32\n",
            "value of k 33\n",
            "value of k 34\n",
            "value of k 35\n",
            "4752.682550430298\n"
          ],
          "name": "stdout"
        }
      ]
    },
    {
      "cell_type": "code",
      "metadata": {
        "colab": {
          "base_uri": "https://localhost:8080/"
        },
        "id": "FVXbOZNUWXi-",
        "outputId": "b05c85f9-8367-4410-daba-5844748d8755"
      },
      "source": [
        "print(lt) # first i points\n",
        "print(l)  # random i points\n",
        "print(l_mean) # after k_mean,taking only centroid\n",
        "print(l_mean_close) # after k_mean 20%\n"
      ],
      "execution_count": null,
      "outputs": [
        {
          "output_type": "stream",
          "text": [
            "[0.3605, 0.3681, 0.385, 0.3972, 0.386, 0.3974, 0.3977, 0.4331, 0.4365, 0.4417, 0.4477, 0.4801, 0.5103, 0.5346, 0.574, 0.5814, 0.5918, 0.5888, 0.5891, 0.5883, 0.5966, 0.6037, 0.6169, 0.6135, 0.6284, 0.6263]\n",
            "[0.4646, 0.463, 0.4811, 0.4624, 0.5023, 0.4855, 0.51, 0.51, 0.507, 0.5051, 0.5017, 0.4868, 0.4944, 0.4852, 0.4944, 0.5, 0.5034, 0.5337, 0.5577, 0.5661, 0.5655, 0.5662, 0.5681, 0.5653, 0.5649, 0.5622]\n",
            "[0.5393, 0.5254, 0.5363, 0.5235, 0.5824, 0.5942, 0.6205, 0.6422, 0.6556, 0.6054, 0.6488, 0.6552, 0.6522, 0.6415, 0.6413, 0.6401, 0.6394, 0.6272, 0.6377, 0.6419, 0.6358, 0.613, 0.6304, 0.6472, 0.6302, 0.6555]\n",
            "[0.5477, 0.5284, 0.5221, 0.5119, 0.5793, 0.5817, 0.5974, 0.6232, 0.638, 0.5938, 0.6245, 0.6415, 0.6463, 0.6219, 0.6201, 0.6321, 0.6335, 0.6289, 0.6277, 0.6192, 0.6113, 0.5909, 0.6138, 0.6089, 0.5876, 0.588]\n"
          ],
          "name": "stdout"
        }
      ]
    },
    {
      "cell_type": "code",
      "metadata": {
        "id": "42JQIltDxL6V",
        "colab": {
          "base_uri": "https://localhost:8080/"
        },
        "outputId": "458ad011-3ba1-4000-b18c-6382d0e4ad67"
      },
      "source": [
        "# Checking error rate change [between randomly selecting datapoints and selecting centroid after k-means ]:\n",
        "print(l_mean)\n",
        "t=l_mean[:]\n",
        "t.sort()\n",
        "l_rate=dict()\n",
        "l_rate_list=[]\n",
        "print('\\n')\n",
        "print('Top five accuracy from process1 ( k_mean with only centroid)')\n",
        "for i in range(len(l_mean)):\n",
        "  if l_mean[i] in t[len(t)-5:]:\n",
        "    print('k =',i+10, 'and accuracy is',l_mean[i])\n",
        "  l_rate_list.append(1-(1-l_mean[i])/(1-l[i]))\n",
        "  if 1-(1-l_mean[i])/(1-l[i]) in l_rate.keys():\n",
        "    l_rate[1-(1-l_mean[i])/(1-l[i])].append(i+10)\n",
        "  else:\n",
        "    l_rate[1-(1-l_mean[i])/(1-l[i])]=[i+10]\n",
        "print(\"\\n\")\n",
        "print('reduced error by percentage for each k ')\n",
        "p=sorted(l_rate)\n",
        "print(l_rate)\n",
        "print('\\n')\n",
        "print('Top 5 reducing in error rate')\n",
        "for i in range(5):\n",
        "  print(i+1,'number best reducing in error rate is',p[len(p)-i-1], 'and it for k =',l_rate[p[len(p)-i-1]])\n",
        ""
      ],
      "execution_count": null,
      "outputs": [
        {
          "output_type": "stream",
          "text": [
            "[0.5393, 0.5254, 0.5363, 0.5235, 0.5824, 0.5942, 0.6205, 0.6422, 0.6556, 0.6054, 0.6488, 0.6552, 0.6522, 0.6415, 0.6413, 0.6401, 0.6394, 0.6272, 0.6377, 0.6419, 0.6358, 0.613, 0.6304, 0.6472, 0.6302, 0.6555]\n",
            "\n",
            "\n",
            "Top five accuracy from process1 ( k_mean with only centroid)\n",
            "k = 18 and accuracy is 0.6556\n",
            "k = 20 and accuracy is 0.6488\n",
            "k = 21 and accuracy is 0.6552\n",
            "k = 22 and accuracy is 0.6522\n",
            "k = 35 and accuracy is 0.6555\n",
            "\n",
            "\n",
            "reduced error by percentage for each k \n",
            "{0.13952185282032126: [10], 0.11620111731843563: [11], 0.10637887839660809: [12], 0.11365327380952384: [13], 0.16094032549728765: [14], 0.2112730806608356: [15], 0.2255102040816327: [16], 0.26979591836734695: [17], 0.3014198782961459: [18], 0.20266720549605988: [19], 0.2952036925546859: [20], 0.3281371784879189: [21], 0.3121044303797469: [22], 0.30361305361305346: [23], 0.29054588607594944: [24], 0.2802: [25], 0.27386226339105924: [26], 0.20051469011366074: [27], 0.18087271082975376: [28], 0.17469463009910113: [29], 0.16179516685845807: [30], 0.10788381742738584: [31], 0.14424635332252822: [32], 0.18840579710144922: [33], 0.15008044127786724: [34], 0.21311100959342155: [35]}\n",
            "\n",
            "\n",
            "Top 5 reducing in error rate\n",
            "1 number best reducing in error rate is 0.3281371784879189 and it for k = [21]\n",
            "2 number best reducing in error rate is 0.3121044303797469 and it for k = [22]\n",
            "3 number best reducing in error rate is 0.30361305361305346 and it for k = [23]\n",
            "4 number best reducing in error rate is 0.3014198782961459 and it for k = [18]\n",
            "5 number best reducing in error rate is 0.2952036925546859 and it for k = [20]\n"
          ],
          "name": "stdout"
        }
      ]
    },
    {
      "cell_type": "code",
      "metadata": {
        "colab": {
          "base_uri": "https://localhost:8080/"
        },
        "id": "uy_1g6fJCL8T",
        "outputId": "a2bf1a7f-ec3b-4111-d46e-025cdb7130fe"
      },
      "source": [
        "# Repeat process 1 and 2 for k=50:\n",
        "\n",
        "start=time.time()\n",
        "l1=[]\n",
        "l_mean1=[]\n",
        "l_mean_close1=[]\n",
        "print('value of k=50')\n",
        "X_trainn, X_te, y_trainn, y_te = train_test_split( train_dataset, y_train, train_size=50, random_state=42)\n",
        "log_reg1.fit(X_trainn,y_trainn)\n",
        "l1.append(log_reg1.score(test_dataset,y_test))\n",
        "kmeans = KMeans(n_clusters=50, random_state=42)\n",
        "X_digits_dist = kmeans.fit_transform(train_dataset)\n",
        "representative_digit_idx = np.argmin(X_digits_dist, axis=0)\n",
        "X_representative_digits = train_dataset[representative_digit_idx]\n",
        "y_representative_digits=y_train[representative_digit_idx]\n",
        "log_reg.fit(X_representative_digits,y_representative_digits)\n",
        "l_mean1.append(log_reg.score(test_dataset,y_test))\n",
        "X_cluster_dist = X_digits_dist[np.arange(len(train_dataset)), kmeans.labels_]\n",
        "for j in range(50):\n",
        "  in_cluster = (kmeans.labels_ == j)\n",
        "  cluster_dist = X_cluster_dist[in_cluster]\n",
        "  cutoff_distance = np.percentile(cluster_dist, percentile_closest)\n",
        "  above_cutoff = (X_cluster_dist > cutoff_distance)\n",
        "  X_cluster_dist[in_cluster & above_cutoff] = -1\n",
        "partially_propagated = (X_cluster_dist != -1)\n",
        "X_train_partially_propagated =train_dataset[partially_propagated]\n",
        "y_train_propagated = np.empty(len(X_train), dtype=np.int32)\n",
        "for j in range(50):\n",
        "  y_train_propagated[kmeans.labels_==j] = y_representative_digits[j]\n",
        "y_train_partially_propagated = y_train_propagated[partially_propagated]\n",
        "log_reg.fit(X_train_partially_propagated,y_train_partially_propagated)\n",
        "l_mean_close1.append(log_reg.score(test_dataset,y_test))\n",
        "end=time.time()\n",
        "print(end-start)\n"
      ],
      "execution_count": null,
      "outputs": [
        {
          "output_type": "stream",
          "text": [
            "value of k=50\n",
            "298.1033048629761\n"
          ],
          "name": "stdout"
        }
      ]
    },
    {
      "cell_type": "code",
      "metadata": {
        "colab": {
          "base_uri": "https://localhost:8080/"
        },
        "id": "IoJOPdouMNu_",
        "outputId": "24a80ef0-5ce2-4e08-cdaa-6ca91b133dae"
      },
      "source": [
        "print(l1)\n",
        "print(l_mean1)\n",
        "print(l_mean_close1)"
      ],
      "execution_count": null,
      "outputs": [
        {
          "output_type": "stream",
          "text": [
            "[0.5802]\n",
            "[0.6695]\n",
            "[0.6602]\n"
          ],
          "name": "stdout"
        }
      ]
    },
    {
      "cell_type": "markdown",
      "metadata": {
        "id": "Z-9feUqSMeCM"
      },
      "source": [
        "**Report:**\n",
        "\n",
        "Procedure of this assignment:\n",
        "\n",
        "1) We read fashion_mnist dataset from keras.\n",
        "\n",
        "\n",
        "2) Coding has done on four ways:\n",
        "  \n",
        "\n",
        "*   Fitting Logistic Regression on entire Dataset\n",
        "*   Fitting Logistic Regression on randomly selected datapoints.\n",
        "*   Fitting Logistic Regression on selected datapoints(selected      datapoints are centroid of k-means).\n",
        "Fitting Logistic Regression on 20 percentile of closest data selected with respect to centroid.\n",
        "\n",
        "\n",
        "**Observation:**\n",
        "\n",
        "1)Fitting Logistic Regression on entire Dataset accuracy is nearly 84%\n",
        "\n",
        "2)Fitting Logistic Regression on randomly selected datapoints accuracy is getting reduced gradually.\n",
        "\n",
        "3)Fitting Logistic Regression on selected datapoints(selected      datapoints are centroid of k-means) accuracy is still low but much better than randomly selected datapoints.\n",
        "\n",
        "4)Fitting Logistic Regression on 20 percentile of closest data selected with respect to centroid . Here accuracy is closest to above process(3) though most of the cases process 3 is better than 4. But result shows process 4 is better than process 2.\n",
        "\n",
        "Here we iterate the k-value from 10 to 35 and we observe that for k=18,20,21,22 (k_mean with only centroid) we get better accuracy and  reduce error rate (compared to randomly selected datapoints). So, if we have to do semi-supervised learning with k-mean, then value of k between 20 to 22 is prefereble.\n",
        "\n",
        "\n",
        "\n",
        "\n",
        "\n",
        "\n",
        "\n",
        "\n",
        "\n",
        "\n",
        "\n",
        "\n",
        "\n",
        "\n"
      ]
    }
  ]
}